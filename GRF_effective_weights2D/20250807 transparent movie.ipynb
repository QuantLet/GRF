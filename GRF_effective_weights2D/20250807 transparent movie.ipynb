{
 "cells": [
  {
   "cell_type": "code",
   "execution_count": 15,
   "metadata": {},
   "outputs": [],
   "source": [
    "import os\n",
    "from PIL import Image\n",
    "import subprocess"
   ]
  },
  {
   "cell_type": "markdown",
   "metadata": {},
   "source": [
    "## MOV"
   ]
  },
  {
   "cell_type": "code",
   "execution_count": null,
   "metadata": {},
   "outputs": [],
   "source": [
    "image_folder = \"contour\"\n",
    "output_mov = \"contour.mov\"\n",
    "cmd = [\n",
    "    \"ffmpeg\",\n",
    "    \"-y\",\n",
    "    \"-framerate\", \"15\",\n",
    "    \"-i\", os.path.join(image_folder, \"frame_%04d.png\"),\n",
    "    \"-c:v\", \"prores_ks\",\n",
    "    \"-profile:v\", \"4\",            # 4444 XQ\n",
    "    \"-pix_fmt\", \"yuva444p10le\",   # 10-bit + alpha\n",
    "    output_mov\n",
    "]\n",
    "subprocess.run(cmd, check=True)"
   ]
  },
  {
   "cell_type": "code",
   "execution_count": 18,
   "metadata": {},
   "outputs": [
    {
     "name": "stderr",
     "output_type": "stream",
     "text": [
      "ffmpeg version 8.0 Copyright (c) 2000-2025 the FFmpeg developers\n",
      "  built with Apple clang version 17.0.0 (clang-1700.0.13.3)\n",
      "  configuration: --prefix=/opt/homebrew/Cellar/ffmpeg/8.0_1 --enable-shared --enable-pthreads --enable-version3 --cc=clang --host-cflags= --host-ldflags='-Wl,-ld_classic' --enable-ffplay --enable-gnutls --enable-gpl --enable-libaom --enable-libaribb24 --enable-libbluray --enable-libdav1d --enable-libharfbuzz --enable-libjxl --enable-libmp3lame --enable-libopus --enable-librav1e --enable-librist --enable-librubberband --enable-libsnappy --enable-libsrt --enable-libssh --enable-libsvtav1 --enable-libtesseract --enable-libtheora --enable-libvidstab --enable-libvmaf --enable-libvorbis --enable-libvpx --enable-libwebp --enable-libx264 --enable-libx265 --enable-libxml2 --enable-libxvid --enable-lzma --enable-libfontconfig --enable-libfreetype --enable-frei0r --enable-libass --enable-libopencore-amrnb --enable-libopencore-amrwb --enable-libopenjpeg --enable-libspeex --enable-libsoxr --enable-libzmq --enable-libzimg --disable-libjack --disable-indev=jack --enable-videotoolbox --enable-audiotoolbox --enable-neon\n",
      "  libavutil      60.  8.100 / 60.  8.100\n",
      "  libavcodec     62. 11.100 / 62. 11.100\n",
      "  libavformat    62.  3.100 / 62.  3.100\n",
      "  libavdevice    62.  1.100 / 62.  1.100\n",
      "  libavfilter    11.  4.100 / 11.  4.100\n",
      "  libswscale      9.  1.100 /  9.  1.100\n",
      "  libswresample   6.  1.100 /  6.  1.100\n",
      "Input #0, image2, from 'weights_frames_grf/frame_%03d.png':\n",
      "  Duration: 00:00:20.20, start: 0.000000, bitrate: N/A\n",
      "  Stream #0:0: Video: png, rgba(pc, gbr/unknown/unknown), 900x600 [SAR 5905:5905 DAR 3:2], 5 fps, 5 tbr, 5 tbn\n",
      "Stream mapping:\n",
      "  Stream #0:0 -> #0:0 (png (native) -> prores (prores_ks))\n",
      "Press [q] to stop, [?] for help\n",
      "Output #0, mov, to 'frames_weights.mov':\n",
      "  Metadata:\n",
      "    encoder         : Lavf62.3.100\n",
      "  Stream #0:0: Video: prores (4444) (ap4h / 0x68347061), yuva444p10le(tv, progressive), 900x600 [SAR 1:1 DAR 3:2], q=2-31, 200 kb/s, 5 fps, 10240 tbn\n",
      "    Metadata:\n",
      "      encoder         : Lavc62.11.100 prores_ks\n",
      "[out#0/mov @ 0x129631fb0] video:9334KiB audio:0KiB subtitle:0KiB other streams:0KiB global headers:0KiB muxing overhead: 0.012733%\n",
      "frame=  101 fps=0.0 q=-0.0 Lsize=    9335KiB time=00:00:20.20 bitrate=3785.7kbits/s speed=35.7x elapsed=0:00:00.56    \n"
     ]
    },
    {
     "data": {
      "text/plain": [
       "CompletedProcess(args=['ffmpeg', '-y', '-framerate', '5', '-i', 'weights_frames_grf/frame_%03d.png', '-c:v', 'prores_ks', '-profile:v', '4', '-pix_fmt', 'yuva444p10le', 'frames_weights.mov'], returncode=0)"
      ]
     },
     "execution_count": 18,
     "metadata": {},
     "output_type": "execute_result"
    }
   ],
   "source": [
    "image_folder = \"weights_frames_grf\"\n",
    "output_mov = \"frames_weights.mov\"\n",
    "cmd = [\n",
    "    \"ffmpeg\",\n",
    "    \"-y\",\n",
    "    \"-framerate\", \"5\",\n",
    "    \"-i\", os.path.join(image_folder, \"frame_%03d.png\"),\n",
    "    \"-c:v\", \"prores_ks\",\n",
    "    \"-profile:v\", \"4\",\n",
    "    \"-pix_fmt\", \"yuva444p10le\",\n",
    "    output_mov\n",
    "]\n",
    "subprocess.run(cmd, check=True)"
   ]
  }
 ],
 "metadata": {
  "kernelspec": {
   "display_name": "Python 3",
   "language": "python",
   "name": "python3"
  },
  "language_info": {
   "codemirror_mode": {
    "name": "ipython",
    "version": 3
   },
   "file_extension": ".py",
   "mimetype": "text/x-python",
   "name": "python",
   "nbconvert_exporter": "python",
   "pygments_lexer": "ipython3",
   "version": "3.12.3"
  },
  "orig_nbformat": 4
 },
 "nbformat": 4,
 "nbformat_minor": 2
}
